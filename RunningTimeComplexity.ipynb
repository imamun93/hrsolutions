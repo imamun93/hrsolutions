{
 "cells": [
  {
   "cell_type": "code",
   "execution_count": 1,
   "metadata": {},
   "outputs": [],
   "source": [
    "url= 'https://www.hackerrank.com/challenges/30-running-time-and-complexity/problem'"
   ]
  },
  {
   "cell_type": "code",
   "execution_count": 5,
   "metadata": {},
   "outputs": [],
   "source": [
    "#checking if number is prime or not:\n",
    "#this works but just not in hackerrank\n",
    "import math\n",
    "def prime(n):\n",
    "    if n==1:\n",
    "        return 'Not Prime'\n",
    "    if n%2==0:\n",
    "        return 'Not Prime'\n",
    "    square= int(math.sqrt(n))\n",
    "    for i in range(2, square+1):\n",
    "        if n%2==0:\n",
    "            return 'Not Prime'\n",
    "    return 'Prime'"
   ]
  },
  {
   "cell_type": "code",
   "execution_count": 8,
   "metadata": {},
   "outputs": [
    {
     "data": {
      "text/plain": [
       "'Not Prime'"
      ]
     },
     "execution_count": 8,
     "metadata": {},
     "output_type": "execute_result"
    }
   ],
   "source": [
    "prime(8)"
   ]
  },
  {
   "cell_type": "code",
   "execution_count": 9,
   "metadata": {},
   "outputs": [
    {
     "data": {
      "text/plain": [
       "'Prime'"
      ]
     },
     "execution_count": 9,
     "metadata": {},
     "output_type": "execute_result"
    }
   ],
   "source": [
    "prime(7)"
   ]
  },
  {
   "cell_type": "code",
   "execution_count": 11,
   "metadata": {},
   "outputs": [
    {
     "name": "stdout",
     "output_type": "stream",
     "text": [
      "1\n",
      "2\n",
      "Prime\n"
     ]
    }
   ],
   "source": [
    "#works with hackerrank not my solution\n",
    "for _ in range(int(input())):\n",
    "    n = int(input())\n",
    "    sqrt = int(math.ceil(math.sqrt(n)))\n",
    "    \n",
    "    if n == 1:\n",
    "        print (\"Not prime\")\n",
    "    elif n == 2:\n",
    "        print(\"Prime\")\n",
    "    else:    \n",
    "        for i in range(2, sqrt + 1):\n",
    "            if n % i == 0:\n",
    "                print (\"Not prime\")\n",
    "                break\n",
    "        else:\n",
    "            print (\"Prime\")"
   ]
  },
  {
   "cell_type": "code",
   "execution_count": null,
   "metadata": {},
   "outputs": [],
   "source": []
  }
 ],
 "metadata": {
  "kernelspec": {
   "display_name": "Python 3",
   "language": "python",
   "name": "python3"
  },
  "language_info": {
   "codemirror_mode": {
    "name": "ipython",
    "version": 3
   },
   "file_extension": ".py",
   "mimetype": "text/x-python",
   "name": "python",
   "nbconvert_exporter": "python",
   "pygments_lexer": "ipython3",
   "version": "3.6.8"
  }
 },
 "nbformat": 4,
 "nbformat_minor": 2
}
