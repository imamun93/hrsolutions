{
 "cells": [
  {
   "cell_type": "code",
   "execution_count": 1,
   "metadata": {},
   "outputs": [],
   "source": [
    "url= 'https://www.hackerrank.com/challenges/30-queues-stacks/problem'"
   ]
  },
  {
   "cell_type": "code",
   "execution_count": 2,
   "metadata": {},
   "outputs": [],
   "source": [
    "#this problem is annoying because of their built in IDE class system. \n",
    "#But to be honest, you do not need class to do it in python\n",
    "#i will post the python solution first and then the answer they want second"
   ]
  },
  {
   "cell_type": "code",
   "execution_count": 3,
   "metadata": {},
   "outputs": [
    {
     "name": "stdout",
     "output_type": "stream",
     "text": [
      "racecar\n",
      "The word, racecar, is a palindrome.\n"
     ]
    }
   ],
   "source": [
    "#Python Solution\n",
    "s= input()\n",
    "if s==s[::-1]:\n",
    "    print(f'The word, {s}, is a palindrome.')\n",
    "else:\n",
    "    print(f'The word, {s}, is not a palindrome.')"
   ]
  },
  {
   "cell_type": "code",
   "execution_count": 4,
   "metadata": {},
   "outputs": [
    {
     "name": "stdout",
     "output_type": "stream",
     "text": [
      "racecar\n",
      "The word, racecar, is a palindrome.\n"
     ]
    }
   ],
   "source": [
    "#Their class based solution because of the inline codes that cannot be edited:\n",
    "class Solution:\n",
    "    def __init__(self):\n",
    "        self.mystack = list()\n",
    "        self.myqueue = list()\n",
    "        return(None)\n",
    "\n",
    "    def pushCharacter(self, char):\n",
    "        self.mystack.append(char)\n",
    "\n",
    "    def popCharacter(self):\n",
    "        return(self.mystack.pop(-1))\n",
    "\n",
    "    def enqueueCharacter(self, char):\n",
    "        self.myqueue.append(char)\n",
    "\n",
    "    def dequeueCharacter(self):\n",
    "        return(self.myqueue.pop(0))\n",
    "    \n",
    "\n",
    "\n",
    "#the codes that could not be edited:\n",
    "# read the string s\n",
    "s=input()\n",
    "#Create the Solution class object\n",
    "obj=Solution()   \n",
    "\n",
    "l=len(s)\n",
    "# push/enqueue all the characters of string s to stack\n",
    "for i in range(l):\n",
    "    obj.pushCharacter(s[i])\n",
    "    obj.enqueueCharacter(s[i])\n",
    "    \n",
    "isPalindrome=True\n",
    "'''\n",
    "pop the top character from stack\n",
    "dequeue the first character from queue\n",
    "compare both the characters\n",
    "''' \n",
    "for i in range(l // 2):\n",
    "    if obj.popCharacter()!=obj.dequeueCharacter():\n",
    "        isPalindrome=False\n",
    "        break\n",
    "#finally print whether string s is palindrome or not.\n",
    "if isPalindrome:\n",
    "    print(\"The word, \"+s+\", is a palindrome.\")\n",
    "else:\n",
    "    print(\"The word, \"+s+\", is not a palindrome.\")    "
   ]
  },
  {
   "cell_type": "code",
   "execution_count": null,
   "metadata": {},
   "outputs": [],
   "source": []
  }
 ],
 "metadata": {
  "kernelspec": {
   "display_name": "Python 3",
   "language": "python",
   "name": "python3"
  },
  "language_info": {
   "codemirror_mode": {
    "name": "ipython",
    "version": 3
   },
   "file_extension": ".py",
   "mimetype": "text/x-python",
   "name": "python",
   "nbconvert_exporter": "python",
   "pygments_lexer": "ipython3",
   "version": "3.6.8"
  }
 },
 "nbformat": 4,
 "nbformat_minor": 2
}
