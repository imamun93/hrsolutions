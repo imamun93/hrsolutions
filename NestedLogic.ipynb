{
 "cells": [
  {
   "cell_type": "code",
   "execution_count": 2,
   "metadata": {},
   "outputs": [],
   "source": [
    "url='https://www.hackerrank.com/challenges/30-nested-logic/problem'"
   ]
  },
  {
   "cell_type": "code",
   "execution_count": 3,
   "metadata": {},
   "outputs": [
    {
     "name": "stdout",
     "output_type": "stream",
     "text": [
      "9 6 2015\n",
      "6 6 2015\n"
     ]
    }
   ],
   "source": [
    "rd, rm, ry= [int(x) for x in input().split(' ')]\n",
    "ed, em, ey= [int(x) for x in input().split(' ')]"
   ]
  },
  {
   "cell_type": "code",
   "execution_count": 4,
   "metadata": {},
   "outputs": [
    {
     "name": "stdout",
     "output_type": "stream",
     "text": [
      "45\n"
     ]
    }
   ],
   "source": [
    "if (rd,rm,ry) == (ed, em, ey):\n",
    "    print(0)\n",
    "elif (rm, ry) == (em, ey):\n",
    "    print(15*(rd-ed))\n",
    "elif ry == ey:\n",
    "    if rm <= em and rd<=ed:\n",
    "        print(0)\n",
    "    else:\n",
    "        print(500*(rm-em))\n",
    "elif ry > ey:\n",
    "    print(10000)\n",
    "else:\n",
    "    print(0)"
   ]
  },
  {
   "cell_type": "code",
   "execution_count": null,
   "metadata": {},
   "outputs": [],
   "source": []
  }
 ],
 "metadata": {
  "kernelspec": {
   "display_name": "Python 3",
   "language": "python",
   "name": "python3"
  },
  "language_info": {
   "codemirror_mode": {
    "name": "ipython",
    "version": 3
   },
   "file_extension": ".py",
   "mimetype": "text/x-python",
   "name": "python",
   "nbconvert_exporter": "python",
   "pygments_lexer": "ipython3",
   "version": "3.6.8"
  }
 },
 "nbformat": 4,
 "nbformat_minor": 2
}
