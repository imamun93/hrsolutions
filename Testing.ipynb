{
 "cells": [
  {
   "cell_type": "code",
   "execution_count": 3,
   "metadata": {},
   "outputs": [],
   "source": [
    "url='https://www.hackerrank.com/challenges/30-testing/problem'"
   ]
  },
  {
   "cell_type": "code",
   "execution_count": 2,
   "metadata": {},
   "outputs": [],
   "source": [
    "#this is not my code, just copied the best one\n",
    "from random import randint\n",
    "\n",
    "class TestDataEmptyArray(object):\n",
    "    \n",
    "    @staticmethod\n",
    "    def get_array():\n",
    "        # complete this function\n",
    "        return []\n",
    "\n",
    "class TestDataUniqueValues(object):\n",
    "\n",
    "    data = set()\n",
    "    while len(data) < 10:\n",
    "        data.add(randint(0, 100))\n",
    "\n",
    "    @staticmethod\n",
    "    def get_array():\n",
    "        # complete this function\n",
    "        data = TestDataUniqueValues.data\n",
    "        return list(data)\n",
    "\n",
    "\n",
    "    @staticmethod\n",
    "    def get_expected_result():\n",
    "        # complete this function\n",
    "        data = TestDataUniqueValues.get_array()\n",
    "        return data.index(min(data))\n",
    "\n",
    "class TestDataExactlyTwoDifferentMinimums(object):\n",
    "\n",
    "    data = set()\n",
    "    while len(data) < 9:\n",
    "        data.add(randint(0, 100))\n",
    "    newData = list(data)\n",
    "    newData.append(min(newData))\n",
    "\n",
    "    @staticmethod\n",
    "    def get_array():\n",
    "        # complete this function\n",
    "         data =  TestDataExactlyTwoDifferentMinimums.newData\n",
    "         return data\n",
    "\n",
    "    @staticmethod\n",
    "    def get_expected_result():\n",
    "        # complete this function\n",
    "        data = TestDataExactlyTwoDifferentMinimums.get_array()\n",
    "        return data.index(min(data))"
   ]
  },
  {
   "cell_type": "code",
   "execution_count": null,
   "metadata": {},
   "outputs": [],
   "source": []
  }
 ],
 "metadata": {
  "kernelspec": {
   "display_name": "Python 3",
   "language": "python",
   "name": "python3"
  },
  "language_info": {
   "codemirror_mode": {
    "name": "ipython",
    "version": 3
   },
   "file_extension": ".py",
   "mimetype": "text/x-python",
   "name": "python",
   "nbconvert_exporter": "python",
   "pygments_lexer": "ipython3",
   "version": "3.6.8"
  }
 },
 "nbformat": 4,
 "nbformat_minor": 2
}
