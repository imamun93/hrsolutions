{
 "cells": [
  {
   "cell_type": "code",
   "execution_count": 1,
   "metadata": {},
   "outputs": [],
   "source": [
    "url= 'https://www.hackerrank.com/challenges/30-regex-patterns/problem'"
   ]
  },
  {
   "cell_type": "code",
   "execution_count": null,
   "metadata": {},
   "outputs": [],
   "source": [
    "#solution will not work with any non-gmail email\n",
    "N = int(input().strip())\n",
    "db=[input().split() for n in range(N)]\n",
    "gmail= re.compile(r'gmail.com')\n",
    "name= sorted([entry[0] for entry in db if re.search(gmail, entry[1])])\n",
    "print(*name, sep='\\n')"
   ]
  },
  {
   "cell_type": "code",
   "execution_count": null,
   "metadata": {},
   "outputs": [],
   "source": [
    "#non RegEx but works with all emails\n",
    "lst=[]\n",
    "for a0 in range(int(input())):\n",
    "    firstName, emailID = [str(s) for s in input().split()]\n",
    "    if re.search('@gmail\\.com$', emailID):\n",
    "           lst.append(firstName)\n",
    "print(*sorted(lst), sep='\\n')"
   ]
  }
 ],
 "metadata": {
  "kernelspec": {
   "display_name": "Python 3",
   "language": "python",
   "name": "python3"
  },
  "language_info": {
   "codemirror_mode": {
    "name": "ipython",
    "version": 3
   },
   "file_extension": ".py",
   "mimetype": "text/x-python",
   "name": "python",
   "nbconvert_exporter": "python",
   "pygments_lexer": "ipython3",
   "version": "3.6.8"
  }
 },
 "nbformat": 4,
 "nbformat_minor": 2
}
