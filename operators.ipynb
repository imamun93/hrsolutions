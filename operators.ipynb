{
 "cells": [
  {
   "cell_type": "markdown",
   "metadata": {},
   "source": [
    "python"
   ]
  },
  {
   "cell_type": "code",
   "execution_count": 1,
   "metadata": {},
   "outputs": [],
   "source": [
    "url= 'https://www.hackerrank.com/challenges/30-operators/problem'"
   ]
  },
  {
   "cell_type": "code",
   "execution_count": null,
   "metadata": {},
   "outputs": [],
   "source": [
    "# Complete the solve function below.\n",
    "def solve(meal_cost, tip_percent, tax_percent):\n",
    "    meal_cost= float(input())\n",
    "    tip_percent= ((meal_cost * tip_percent)/100)\n",
    "    tax_percent= ((meal_cost * tax_percent)/100)\n",
    "    total= (round((meal_cost+ tip_percent+ tax_percent)))\n",
    "    print (total)"
   ]
  }
 ],
 "metadata": {
  "kernelspec": {
   "display_name": "Python 3",
   "language": "python",
   "name": "python3"
  },
  "language_info": {
   "codemirror_mode": {
    "name": "ipython",
    "version": 3
   },
   "file_extension": ".py",
   "mimetype": "text/x-python",
   "name": "python",
   "nbconvert_exporter": "python",
   "pygments_lexer": "ipython3",
   "version": "3.6.8"
  }
 },
 "nbformat": 4,
 "nbformat_minor": 2
}
