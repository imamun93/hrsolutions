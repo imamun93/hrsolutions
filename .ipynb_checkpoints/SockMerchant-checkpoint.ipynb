{
 "cells": [
  {
   "cell_type": "markdown",
   "metadata": {},
   "source": [
    "Python 3"
   ]
  },
  {
   "cell_type": "code",
   "execution_count": 1,
   "metadata": {},
   "outputs": [],
   "source": [
    "url= 'https://www.hackerrank.com/challenges/sock-merchant/problem?h_l=interview&playlist_slugs%5B%5D=interview-preparation-kit&playlist_slugs%5B%5D=warmup'"
   ]
  },
  {
   "cell_type": "code",
   "execution_count": 3,
   "metadata": {},
   "outputs": [],
   "source": [
    "#my answer works for all run test and 6/9 of full test\n",
    "#if i take the input from wrong test and run it in the custome set, then it works\n",
    "#it is unknown why 3 of the 9 tests when running in submission keeps giving me error\n",
    "#the code is a bit unorthodox but so far it has been compiling and working properly"
   ]
  },
  {
   "cell_type": "code",
   "execution_count": null,
   "metadata": {},
   "outputs": [],
   "source": [
    "socks= input().strip().split()\n",
    "pairs=0\n",
    "for s in sorted(socks):\n",
    "    if int(s)//2:\n",
    "        pairs+=int(s)//2\n",
    "        pairs -=1\n",
    "    print(pairs)"
   ]
  }
 ],
 "metadata": {
  "kernelspec": {
   "display_name": "Python 3",
   "language": "python",
   "name": "python3"
  },
  "language_info": {
   "codemirror_mode": {
    "name": "ipython",
    "version": 3
   },
   "file_extension": ".py",
   "mimetype": "text/x-python",
   "name": "python",
   "nbconvert_exporter": "python",
   "pygments_lexer": "ipython3",
   "version": "3.6.8"
  }
 },
 "nbformat": 4,
 "nbformat_minor": 2
}
