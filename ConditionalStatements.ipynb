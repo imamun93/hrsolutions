{
 "cells": [
  {
   "cell_type": "markdown",
   "metadata": {},
   "source": [
    "python"
   ]
  },
  {
   "cell_type": "code",
   "execution_count": 1,
   "metadata": {},
   "outputs": [],
   "source": [
    "url= 'https://www.hackerrank.com/challenges/30-conditional-statements/problem'"
   ]
  },
  {
   "cell_type": "code",
   "execution_count": 3,
   "metadata": {},
   "outputs": [
    {
     "name": "stdout",
     "output_type": "stream",
     "text": [
      "2\n",
      "Not Weird\n"
     ]
    }
   ],
   "source": [
    "n= int(input())\n",
    "#if n is even and between 2 and 5 or greater than 20, print not weird\n",
    "#if n is even and between 6 and 20, print weird\n",
    "#if n is odd, print weird\n",
    "# very long and computationaly expensive python 3 code (i suggest using lambda fxn instead)\n",
    "if n%2==0 and n in range(2,6):\n",
    "    print ('Not Weird')\n",
    "if n%2==0 and n>20:\n",
    "    print ('Not Weird')\n",
    "if n%2==0 and n in range(6,21):\n",
    "    print('Weird')\n",
    "else:\n",
    "    if n%2!=0:\n",
    "        print('Weird')"
   ]
  },
  {
   "cell_type": "code",
   "execution_count": 2,
   "metadata": {},
   "outputs": [],
   "source": [
    "#this one is not my code but it should work the same regardless:\n",
    "print \"Not \"*(lambda x: x % 2 == (5 < x < 21))(input()) + \"Weird\""
   ]
  },
  {
   "cell_type": "code",
   "execution_count": null,
   "metadata": {},
   "outputs": [],
   "source": []
  }
 ],
 "metadata": {
  "kernelspec": {
   "display_name": "Python 3",
   "language": "python",
   "name": "python3"
  },
  "language_info": {
   "codemirror_mode": {
    "name": "ipython",
    "version": 3
   },
   "file_extension": ".py",
   "mimetype": "text/x-python",
   "name": "python",
   "nbconvert_exporter": "python",
   "pygments_lexer": "ipython3",
   "version": "3.6.8"
  }
 },
 "nbformat": 4,
 "nbformat_minor": 2
}
